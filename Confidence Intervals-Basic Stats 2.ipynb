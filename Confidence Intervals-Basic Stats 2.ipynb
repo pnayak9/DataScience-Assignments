{
 "cells": [
  {
   "cell_type": "markdown",
   "id": "eb0b66e0-8758-4fc7-8917-df27bc9703cc",
   "metadata": {},
   "source": [
    "## Estimation And Confidence Intervals"
   ]
  },
  {
   "cell_type": "markdown",
   "id": "82f42a3c-2e5f-46f9-be21-86d43fe2aeb7",
   "metadata": {},
   "source": [
    "### A total of 15 print-heads were randomly selected and tested until failure. The durability of each print-head (in millions of characters) was recorded as follows:\n",
    "1.13, 1.55, 1.43, 0.92, 1.25, 1.36, 1.32, 0.85, 1.07, 1.48, 1.20, 1.33, 1.18, 1.22, 1.29\n"
   ]
  },
  {
   "cell_type": "code",
   "execution_count": 11,
   "id": "a6022f2a-1a07-4490-9ec9-8a77822562cf",
   "metadata": {},
   "outputs": [
    {
     "data": {
      "text/plain": [
       "(np.float64(1.2386666666666666), np.float64(0.18661427836285438))"
      ]
     },
     "execution_count": 11,
     "metadata": {},
     "output_type": "execute_result"
    }
   ],
   "source": [
    "#Sample data\n",
    "data=[1.13, 1.55, 1.43, 0.92, 1.25, 1.36, 1.32, 0.85, 1.07, 1.48, 1.20, 1.33, 1.18, 1.22, 1.29]\n",
    "\n",
    "#Import numpy library\n",
    "import numpy as np\n",
    "\n",
    "#Calculate Sample Mean and Standard deviation\n",
    "s_mean = np.mean(data)\n",
    "s_std = np.std(data)\n",
    "s_mean,s_std\n"
   ]
  },
  {
   "cell_type": "markdown",
   "id": "ecc9c120-bf45-4324-b145-5dba057bb642",
   "metadata": {},
   "source": [
    "### a. Build 99% Confidence Interval Using Sample Standard Deviation\n",
    "Assuming the sample is representative of the population, construct a 99% confidence interval for the mean number of characters printed before the print-head fails using the sample standard deviation. Explain the steps you take and the rationale behind using the t-distribution for this task.\n"
   ]
  },
  {
   "cell_type": "code",
   "execution_count": 12,
   "id": "30fdae21-7c71-49cd-8a07-10bb64c38482",
   "metadata": {},
   "outputs": [
    {
     "name": "stdout",
     "output_type": "stream",
     "text": [
      "Sample Size: 15\n",
      "Degrees of Freedom: 14\n",
      "T-score for 99% Confidence: 2.976842734370834\n",
      "Standard Error: 0.04818359948425667\n",
      "Margin of Error: 0.14343499804054372\n",
      "99% Confidence Interval: 1.095231668626123, 1.3821016647072102\n",
      "\n",
      "** Rationale behind using the t-distribution:**\n",
      "- The t-distribution is used because the population standard deviation is unknown.\n",
      "- The sample size is small n < 30.\n"
     ]
    }
   ],
   "source": [
    "#import scipy library\n",
    "import scipy.stats as stats\n",
    "\n",
    "s_size = len(data) # get the length of the data\n",
    "dof = s_size - 1 # degree of freedom\n",
    "CI = 0.99 # Confidence interval\n",
    "alpha = 1 - CI #alpha value\n",
    "t_score = stats.t.ppf(1-alpha/2, dof) # calculate t_score\n",
    "s_error = s_std / np.sqrt(s_size) # calculate error\n",
    "margin_of_error = t_score * s_error # calculate margine of error\n",
    "ci_lower = s_mean - margin_of_error # calculate lower bound of CI\n",
    "ci_upper = s_mean + margin_of_error # calculate upper bound of CI\n",
    "\n",
    "print(f\"Sample Size: {s_size}\\nDegrees of Freedom: {dof}\\nT-score for 99% Confidence: {t_score}\\nStandard Error: {s_error}\\nMargin of Error: {margin_of_error}\\n99% Confidence Interval: {ci_lower}, {ci_upper}\")\n",
    "\n",
    "print(\"\\n** Rationale behind using the t-distribution:**\\n- The t-distribution is used because the population standard deviation is unknown.\\n- The sample size is small n < 30.\")"
   ]
  },
  {
   "cell_type": "markdown",
   "id": "aeb363ac-b2df-47f7-9d33-467981e16787",
   "metadata": {},
   "source": [
    "### b. Build 99% Confidence Interval Using Known Population Standard Deviation\n",
    "If it were known that the population standard deviation is 0.2 million characters, construct a 99% confidence interval for the mean number of characters printed before failure.\n"
   ]
  },
  {
   "cell_type": "code",
   "execution_count": 13,
   "id": "8831e82d-bfa8-40ee-a740-2a8860add75e",
   "metadata": {},
   "outputs": [
    {
     "name": "stdout",
     "output_type": "stream",
     "text": [
      "\n",
      "Z-score for 99% Confidence: 2.5758293035489004\n",
      "Standard Error (using population std): 0.051639777949432225\n",
      "Margin of Error (using z-distribution): 0.13301525327090588\n",
      "99% Confidence Interval (using z-distribution): 1.1056514133957607, 1.3716819199375725\n"
     ]
    }
   ],
   "source": [
    "s_size = len(data) # get the length of the data\n",
    "p_std = 0.2 # Population standard deviation\n",
    "CI = 0.99 # Confidence interval\n",
    "alpha = 1 - CI #alpha value\n",
    "z_score = stats.norm.ppf(1-alpha/2) # calculate z_score\n",
    "z_error= p_std / np.sqrt(s_size) # calculate z_error\n",
    "margin_of_error_z = z_score * z_error # calculate margine of error\n",
    "ci_lower_z = s_mean - margin_of_error_z # calculate lower bound of CI\n",
    "ci_upper_z = s_mean + margin_of_error_z # calculate upper bound of CI\n",
    "\n",
    "print(f\"\\nZ-score for 99% Confidence: {z_score}\\nStandard Error (using population std): {z_error}\\nMargin of Error (using z-distribution): {margin_of_error_z}\\n99% Confidence Interval (using z-distribution): {ci_lower_z}, {ci_upper_z}\")"
   ]
  },
  {
   "cell_type": "code",
   "execution_count": null,
   "id": "71a259bc-86ae-4c59-a0c5-05e1fcd184d9",
   "metadata": {},
   "outputs": [],
   "source": []
  }
 ],
 "metadata": {
  "kernelspec": {
   "display_name": "Python [conda env:base] *",
   "language": "python",
   "name": "conda-base-py"
  },
  "language_info": {
   "codemirror_mode": {
    "name": "ipython",
    "version": 3
   },
   "file_extension": ".py",
   "mimetype": "text/x-python",
   "name": "python",
   "nbconvert_exporter": "python",
   "pygments_lexer": "ipython3",
   "version": "3.13.5"
  }
 },
 "nbformat": 4,
 "nbformat_minor": 5
}
