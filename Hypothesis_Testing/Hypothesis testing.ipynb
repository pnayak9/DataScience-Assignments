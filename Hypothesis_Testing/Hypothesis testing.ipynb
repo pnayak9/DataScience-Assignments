{
 "cells": [
  {
   "cell_type": "markdown",
   "id": "71ffe6d8-ca4c-482d-9997-11a228f64065",
   "metadata": {},
   "source": [
    "## HYPOTHESIS TESTING"
   ]
  },
  {
   "cell_type": "markdown",
   "id": "3622eb3c-0cec-4dd7-9257-8374d55f9040",
   "metadata": {},
   "source": [
    "##### Background:\n",
    "Bombay hospitality Ltd. operates a franchise model for producing exotic Norwegian dinners throughout New England. The operating cost for a franchise in a week (W) is given by the equation W = $1,000 + $5X, where X represents the number of units produced in a week. Recent feedback from restaurant owners suggests that this cost model may no longer be accurate, as their observed weekly operating costs are higher.\n",
    "\n",
    "##### Objective:\n",
    "To investigate the restaurant owners' claim about the increase in weekly operating costs using hypothesis testing.\n",
    "\n",
    "##### Data Provided:\n",
    "•\tThe theoretical weekly operating cost model: W = $1,000 + $5X\n",
    "\n",
    "•\tSample of 25 restaurants with a mean weekly cost of Rs. 3,050\n",
    "\n",
    "•\tNumber of units produced in a week (X) follows a normal distribution with a mean (μ) of 600 units and a standard deviation (σ) of 25 units\n"
   ]
  },
  {
   "cell_type": "code",
   "execution_count": 1,
   "id": "39cfb723-4fa3-41f2-a542-13b3c446ee7d",
   "metadata": {},
   "outputs": [],
   "source": [
    "#import math and scipy libraries\n",
    "import math\n",
    "from scipy import stats"
   ]
  },
  {
   "cell_type": "markdown",
   "id": "6d480c88-7be6-4ce5-a2a4-68ca0db5aa38",
   "metadata": {},
   "source": [
    "### 1. State the Hypotheses statement:"
   ]
  },
  {
   "cell_type": "markdown",
   "id": "c0e0a92e-8473-4acb-942d-c42e3d5baf9a",
   "metadata": {},
   "source": [
    "##### Null Hypothesis (H0): The weekly operating cost follows the theoretical cost \n",
    "pop_mean=1000+5𝑋=1000+5*600=4000\n",
    "\n",
    "##### Alternative Hypothesis (H1): The actual weekly operating cost is higher than the theoretical cost \n",
    "pop_mean>4000"
   ]
  },
  {
   "cell_type": "markdown",
   "id": "66446fed-625d-4a3f-82bf-9ebe795171a4",
   "metadata": {},
   "source": [
    "### 2. Calculate the Test Statistic:"
   ]
  },
  {
   "cell_type": "code",
   "execution_count": 2,
   "id": "0d57e324-044d-4649-9b3e-8001af6ce072",
   "metadata": {},
   "outputs": [
    {
     "name": "stdout",
     "output_type": "stream",
     "text": [
      "t_statistic value: -38.0\n"
     ]
    }
   ],
   "source": [
    "sample_mean=3050 #Sample mean\n",
    "pop_mean=4000 #Population mean\n",
    "std=125 #standard deviation\n",
    "s_size=25 #Sample size\n",
    "\n",
    "#Calculate t_statistic value\n",
    "t_statistic=(sample_mean-pop_mean)/(std/math.sqrt(s_size))\n",
    "print(\"t_statistic value:\",t_statistic)"
   ]
  },
  {
   "cell_type": "markdown",
   "id": "4bb69929-b631-4458-b43f-ead8409744e0",
   "metadata": {},
   "source": [
    "### 3. Determine the Critical Value:"
   ]
  },
  {
   "cell_type": "code",
   "execution_count": 3,
   "id": "37cd0e26-f1c4-462a-a291-a75be803c224",
   "metadata": {},
   "outputs": [
    {
     "name": "stdout",
     "output_type": "stream",
     "text": [
      "t_critical value: 1.6448536269514722\n"
     ]
    }
   ],
   "source": [
    "#alpha value\n",
    "alpha = 0.05\n",
    "\n",
    "#Calculate t_critical value\n",
    "t_critical = stats.norm.ppf(1-alpha)\n",
    "print(\"t_critical value:\",t_critical)"
   ]
  },
  {
   "cell_type": "markdown",
   "id": "1d335492-7f11-437a-bb53-4980029413a6",
   "metadata": {},
   "source": [
    "### 4. Make a Decision:"
   ]
  },
  {
   "cell_type": "code",
   "execution_count": 5,
   "id": "7e91073b-80e1-4c6b-b56c-5fb9db197059",
   "metadata": {},
   "outputs": [
    {
     "name": "stdout",
     "output_type": "stream",
     "text": [
      "Dicision - Fail to reject the null hypothesis: -38.0 < 1.645\n"
     ]
    }
   ],
   "source": [
    "# Decision\n",
    "if t_statistic > t_critical:\n",
    "    print(f\"Dicision - Reject the null hypothesis: {t_statistic} > {t_critical:.3f}\")\n",
    "else:\n",
    "    print(f\"Dicision - Fail to reject the null hypothesis: {t_statistic} < {t_critical:.3f}\")"
   ]
  },
  {
   "cell_type": "markdown",
   "id": "53796be0-0a9c-421b-a467-41c61315ea63",
   "metadata": {},
   "source": [
    "### 5. Conclusion:"
   ]
  },
  {
   "cell_type": "markdown",
   "id": "f273e13b-4ace-47bc-889d-f9b722f6c9fd",
   "metadata": {},
   "source": [
    "##### Final Conclusion\n",
    "- There is no strong evidence to support the restaurant owners' claim that the weekly operating costs are higher than the model suggests.\n",
    "- Hence ,It Failed to reject the null hypothesis:  (t_statistic < t_critical = -38.0 < 1.645)"
   ]
  },
  {
   "cell_type": "code",
   "execution_count": null,
   "id": "6b1d166f-9e71-4003-91b0-9afb23ce114a",
   "metadata": {},
   "outputs": [],
   "source": []
  }
 ],
 "metadata": {
  "kernelspec": {
   "display_name": "Python [conda env:base] *",
   "language": "python",
   "name": "conda-base-py"
  },
  "language_info": {
   "codemirror_mode": {
    "name": "ipython",
    "version": 3
   },
   "file_extension": ".py",
   "mimetype": "text/x-python",
   "name": "python",
   "nbconvert_exporter": "python",
   "pygments_lexer": "ipython3",
   "version": "3.13.5"
  }
 },
 "nbformat": 4,
 "nbformat_minor": 5
}
