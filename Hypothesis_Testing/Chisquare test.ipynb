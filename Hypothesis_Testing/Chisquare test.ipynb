{
 "cells": [
  {
   "cell_type": "markdown",
   "id": "5ff77b9f-125a-4d64-96e8-ef312486e265",
   "metadata": {},
   "source": [
    "## CHI-SQUARE TEST"
   ]
  },
  {
   "cell_type": "markdown",
   "id": "2476785f-849d-4c35-8cd6-5736f551bdab",
   "metadata": {},
   "source": [
    "##### Data Provided:\n",
    "The data is summarized in a contingency table showing the counts of customers in each satisfaction level for both types of devices:\n",
    "##### Satisfaction\t   Smart Thermostat\t     Smart Light\t   Total\n",
    "- Very Satisfied\t      50\t               70     \t        120\n",
    "- Satisfied\t              80\t               100\t            180\n",
    "- Neutral\t              60\t               90\t            150\n",
    "- Unsatisfied\t          30\t               50    \t        80\n",
    "- Very Unsatisfied\t  20\t                   50\t            70\n",
    "  Total\t              240\t                   360\t            600\n",
    "\n",
    "##### Objective:\n",
    "To use the Chi-Square test for independence to determine if there's a significant association between the type of smart home device purchased (Smart Thermostats vs. Smart Lights) and the customer satisfaction level.\n"
   ]
  },
  {
   "cell_type": "code",
   "execution_count": 1,
   "id": "24fa69f5-e52f-4190-ae08-c99822b5a906",
   "metadata": {},
   "outputs": [],
   "source": [
    "import pandas as pd\n",
    "import scipy.stats as stats"
   ]
  },
  {
   "cell_type": "code",
   "execution_count": 2,
   "id": "106807fe-bec1-49c5-9111-293428de66c6",
   "metadata": {},
   "outputs": [
    {
     "data": {
      "text/html": [
       "<div>\n",
       "<style scoped>\n",
       "    .dataframe tbody tr th:only-of-type {\n",
       "        vertical-align: middle;\n",
       "    }\n",
       "\n",
       "    .dataframe tbody tr th {\n",
       "        vertical-align: top;\n",
       "    }\n",
       "\n",
       "    .dataframe thead th {\n",
       "        text-align: right;\n",
       "    }\n",
       "</style>\n",
       "<table border=\"1\" class=\"dataframe\">\n",
       "  <thead>\n",
       "    <tr style=\"text-align: right;\">\n",
       "      <th></th>\n",
       "      <th>Smart Thermostat</th>\n",
       "      <th>Smart Light</th>\n",
       "    </tr>\n",
       "  </thead>\n",
       "  <tbody>\n",
       "    <tr>\n",
       "      <th>Very Satisfied</th>\n",
       "      <td>50</td>\n",
       "      <td>70</td>\n",
       "    </tr>\n",
       "    <tr>\n",
       "      <th>Satisfied</th>\n",
       "      <td>80</td>\n",
       "      <td>100</td>\n",
       "    </tr>\n",
       "    <tr>\n",
       "      <th>Neutral</th>\n",
       "      <td>60</td>\n",
       "      <td>90</td>\n",
       "    </tr>\n",
       "    <tr>\n",
       "      <th>Unsatisfied</th>\n",
       "      <td>30</td>\n",
       "      <td>50</td>\n",
       "    </tr>\n",
       "    <tr>\n",
       "      <th>Very Unsatisfied</th>\n",
       "      <td>20</td>\n",
       "      <td>50</td>\n",
       "    </tr>\n",
       "  </tbody>\n",
       "</table>\n",
       "</div>"
      ],
      "text/plain": [
       "                  Smart Thermostat  Smart Light\n",
       "Very Satisfied                  50           70\n",
       "Satisfied                       80          100\n",
       "Neutral                         60           90\n",
       "Unsatisfied                     30           50\n",
       "Very Unsatisfied                20           50"
      ]
     },
     "metadata": {},
     "output_type": "display_data"
    }
   ],
   "source": [
    "#Given Data\n",
    "data = {'Smart Thermostat': [50, 80, 60, 30, 20],\n",
    "        'Smart Light': [70, 100, 90, 50, 50]}\n",
    "index = ['Very Satisfied', 'Satisfied', 'Neutral', 'Unsatisfied', 'Very Unsatisfied']\n",
    "\n",
    "df = pd.DataFrame(data, index=index)\n",
    "\n",
    "display(df)"
   ]
  },
  {
   "cell_type": "code",
   "execution_count": 3,
   "id": "671b48b4-fb44-49db-8566-9310050f7070",
   "metadata": {},
   "outputs": [
    {
     "name": "stdout",
     "output_type": "stream",
     "text": [
      "rows: 2\n",
      "cols: 5\n"
     ]
    }
   ],
   "source": [
    "#find the number of rows and columns\n",
    "[cols,rows]=df.shape\n",
    "print(f\"rows: {rows}\\ncols: {cols}\")"
   ]
  },
  {
   "cell_type": "markdown",
   "id": "8b8d9623-c263-46aa-a32d-b677b1d06f1a",
   "metadata": {},
   "source": [
    "### 1. State the Hypotheses:"
   ]
  },
  {
   "cell_type": "markdown",
   "id": "5e211684-6da9-4088-bb44-4959d4062beb",
   "metadata": {},
   "source": [
    "##### Null Hypothesis (H0): There is no association between device type and customer satisfaction.\n",
    "##### Alternative Hypothesis (H1): There is a significant association between device type and customer satisfaction."
   ]
  },
  {
   "cell_type": "markdown",
   "id": "add3f063-b653-420e-8fe8-d2caaa977bf3",
   "metadata": {},
   "source": [
    "### 2. Compute the Chi-Square Statistic:"
   ]
  },
  {
   "cell_type": "code",
   "execution_count": 5,
   "id": "cafdfe80-e869-483a-bd4a-41e7c4443df6",
   "metadata": {},
   "outputs": [
    {
     "name": "stdout",
     "output_type": "stream",
     "text": [
      "chi_statistic: 5.638227513227513\n",
      "pvalue: 0.22784371130697179\n",
      "dof:dof 4\n",
      "expected frequency:\n",
      " [[ 48.  72.]\n",
      " [ 72. 108.]\n",
      " [ 60.  90.]\n",
      " [ 32.  48.]\n",
      " [ 28.  42.]]\n"
     ]
    }
   ],
   "source": [
    "chi_statistic,pvalue,dof,exp_freq=stats.chi2_contingency(df)\n",
    "print(\"chi_statistic:\",chi_statistic)\n",
    "print(\"pvalue:\",pvalue)\n",
    "print(\"dof:dof\",dof)\n",
    "print(\"expected frequency:\\n\",exp_freq)"
   ]
  },
  {
   "cell_type": "markdown",
   "id": "b07202bb-7f33-4107-aa23-e40b126aa6cd",
   "metadata": {},
   "source": [
    "### 3. Determine the Critical Value:\n",
    "Using the significance level (alpha) of 0.05 and the degrees of freedom (which is the number of categories minus 1)"
   ]
  },
  {
   "cell_type": "code",
   "execution_count": 6,
   "id": "b421f985-0d15-4e33-a5cd-f760d6156ef3",
   "metadata": {},
   "outputs": [
    {
     "name": "stdout",
     "output_type": "stream",
     "text": [
      "chi_critical: 9.487729036781154\n"
     ]
    }
   ],
   "source": [
    "#alpha value\n",
    "alpha=0.05\n",
    "\n",
    "#Find critical value\n",
    "chi_critical = stats.chi2.ppf(1-alpha,dof)\n",
    "print(\"chi_critical:\",chi_critical)"
   ]
  },
  {
   "cell_type": "markdown",
   "id": "2c85e216-8b09-4792-afa0-b56e1958984b",
   "metadata": {},
   "source": [
    "### 4. Make a Decision:\n",
    "Compare the Chi-Square statistic with the critical value to decide whether to reject the null hypothesis.\n"
   ]
  },
  {
   "cell_type": "code",
   "execution_count": 7,
   "id": "dca215f6-42fb-4125-a5c2-42d83c2726aa",
   "metadata": {},
   "outputs": [
    {
     "name": "stdout",
     "output_type": "stream",
     "text": [
      "Dicision - Fail to reject the null hypothesis: 5.638 < 9.488\n"
     ]
    }
   ],
   "source": [
    "if chi_statistic > chi_critical:\n",
    "    print(f\"Dicision - Reject the null hypothesis: {chi_statistic:.3f} > {chi_critical:.3f}\")\n",
    "else:\n",
    "    print(f\"Dicision - Fail to reject the null hypothesis: {chi_statistic:.3f} < {chi_critical:.3f}\")"
   ]
  },
  {
   "cell_type": "markdown",
   "id": "1831b1e9-efb4-4b6d-8abd-4a83d57454be",
   "metadata": {},
   "source": [
    "### Conclusion"
   ]
  },
  {
   "cell_type": "markdown",
   "id": "9258055a-d095-4807-8fb6-6e8b35fabf04",
   "metadata": {},
   "source": [
    "##### Final conclusion:\n",
    " There is no significant association between device type and customer satisfaction."
   ]
  },
  {
   "cell_type": "code",
   "execution_count": null,
   "id": "6798503d-5db5-4d1a-a7e2-e626026ac921",
   "metadata": {},
   "outputs": [],
   "source": []
  }
 ],
 "metadata": {
  "kernelspec": {
   "display_name": "Python [conda env:base] *",
   "language": "python",
   "name": "conda-base-py"
  },
  "language_info": {
   "codemirror_mode": {
    "name": "ipython",
    "version": 3
   },
   "file_extension": ".py",
   "mimetype": "text/x-python",
   "name": "python",
   "nbconvert_exporter": "python",
   "pygments_lexer": "ipython3",
   "version": "3.13.5"
  }
 },
 "nbformat": 4,
 "nbformat_minor": 5
}
