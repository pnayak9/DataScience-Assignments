{
 "cells": [
  {
   "cell_type": "markdown",
   "id": "6cb40a5d-94f0-4623-9d87-83cd6afa2b42",
   "metadata": {},
   "source": [
    "#### Exercise 1: Prime Numbers"
   ]
  },
  {
   "cell_type": "code",
   "execution_count": 7,
   "id": "bae2c368-1ac4-45a9-9ea4-595ede1adb75",
   "metadata": {},
   "outputs": [
    {
     "name": "stdin",
     "output_type": "stream",
     "text": [
      "Eneter a number: 82\n"
     ]
    },
    {
     "name": "stdout",
     "output_type": "stream",
     "text": [
      "82 is Not a Prime number\n"
     ]
    }
   ],
   "source": [
    "#import math library\n",
    "import math\n",
    "#Ask the number from user\n",
    "number=int(input(\"Eneter a number:\"))\n",
    "#Check if number is greater than one or not\n",
    "if number>1:\n",
    "   #Find the square root of the the number\n",
    "   sqrt = math.sqrt(number)\n",
    "   # Check the digits from 2 to square root of the number \n",
    "   for div_value in range(2,round(sqrt)+1):\n",
    "       #check if the number is divisible or not \n",
    "       if number%div_value==0:\n",
    "           print(f\"{number} is Not a Prime number\") # if no divisors found,not prime\n",
    "           break\n",
    "   else:\n",
    "        print(f\"{number} is a Prime number\")# if divisible,it's prime\n",
    "else:\n",
    "    print(\"Please enter a number greater than 1\")\n",
    "\n"
   ]
  },
  {
   "cell_type": "markdown",
   "id": "a23f29a5-273c-4e93-9048-92487410bf22",
   "metadata": {},
   "source": [
    "#### Exercise 2: Product of Random Numbers"
   ]
  },
  {
   "cell_type": "code",
   "execution_count": 9,
   "id": "71b7001a-c5aa-432d-9c91-af3e5c5158fb",
   "metadata": {},
   "outputs": [
    {
     "name": "stdin",
     "output_type": "stream",
     "text": [
      "Please enter the product of 50 and 11: 550\n"
     ]
    },
    {
     "name": "stdout",
     "output_type": "stream",
     "text": [
      "GREAT..! 550 is a correct answer\n"
     ]
    }
   ],
   "source": [
    "#import random library\n",
    "import random\n",
    "#Declare two variables to store the random numbers\n",
    "randNums1=random.randrange(0,100)\n",
    "randNums2=random.randrange(0,100)\n",
    "#Calculate the product of random numbers\n",
    "prod=randNums1*randNums2\n",
    "#Ask user to enter the product of random numbers\n",
    "mul=int(input(f\"Please enter the product of {randNums1} and {randNums2}:\"))\n",
    "#Validate whether entered answer is valid or not and display the appropriate message\n",
    "if mul == prod:\n",
    "    print(f\"GREAT..! {mul} is a correct answer\")\n",
    "else:\n",
    "    print(f\"WRONG ANSWER..! The Product of {randNums1} and {randNums2} is: {prod}\")\n"
   ]
  },
  {
   "cell_type": "markdown",
   "id": "fee07aca-263c-46c6-8b24-159a50bc30db",
   "metadata": {},
   "source": [
    "#### Exercise 3: Squares of Even/Odd Numbers"
   ]
  },
  {
   "cell_type": "code",
   "execution_count": 10,
   "id": "2fd3fdc0-e16f-42e1-9271-eed000fe8831",
   "metadata": {},
   "outputs": [
    {
     "name": "stdout",
     "output_type": "stream",
     "text": [
      "Square of Odd numbers:\n",
      "101 = 10201\n",
      "103 = 10609\n",
      "105 = 11025\n",
      "107 = 11449\n",
      "109 = 11881\n",
      "111 = 12321\n",
      "113 = 12769\n",
      "115 = 13225\n",
      "117 = 13689\n",
      "119 = 14161\n",
      "121 = 14641\n",
      "123 = 15129\n",
      "125 = 15625\n",
      "127 = 16129\n",
      "129 = 16641\n",
      "131 = 17161\n",
      "133 = 17689\n",
      "135 = 18225\n",
      "137 = 18769\n",
      "139 = 19321\n",
      "141 = 19881\n",
      "143 = 20449\n",
      "145 = 21025\n",
      "147 = 21609\n",
      "149 = 22201\n",
      "151 = 22801\n",
      "153 = 23409\n",
      "155 = 24025\n",
      "157 = 24649\n",
      "159 = 25281\n",
      "161 = 25921\n",
      "163 = 26569\n",
      "165 = 27225\n",
      "167 = 27889\n",
      "169 = 28561\n",
      "171 = 29241\n",
      "173 = 29929\n",
      "175 = 30625\n",
      "177 = 31329\n",
      "179 = 32041\n",
      "181 = 32761\n",
      "183 = 33489\n",
      "185 = 34225\n",
      "187 = 34969\n",
      "189 = 35721\n",
      "191 = 36481\n",
      "193 = 37249\n",
      "195 = 38025\n",
      "197 = 38809\n",
      "199 = 39601\n"
     ]
    }
   ],
   "source": [
    "# Square for ODD numbers\n",
    "print(\"Square of Odd numbers:\")\n",
    "#Generate numbers betewwn 100 to 200\n",
    "for i in range(100,201):\n",
    "    #Find the square root of odd numbers and print\n",
    "    if i%2!=0:\n",
    "        sq=i**2\n",
    "        print(f'{i} = {sq}')\n",
    "        \n"
   ]
  },
  {
   "cell_type": "markdown",
   "id": "15dc9d14-51d4-4db3-80bd-86e04dc4b373",
   "metadata": {},
   "source": [
    "#### Exercise 4: Word counter"
   ]
  },
  {
   "cell_type": "code",
   "execution_count": 15,
   "id": "9d4ca85b-85d6-4202-9990-52d1b567a211",
   "metadata": {},
   "outputs": [
    {
     "name": "stdin",
     "output_type": "stream",
     "text": [
      "Please enter a text--  This is a sample text. This text will be used to demonstrate the word counter.\n"
     ]
    },
    {
     "name": "stdout",
     "output_type": "stream",
     "text": [
      "'This': 2\n",
      "'is': 1\n",
      "'a': 1\n",
      "'sample': 1\n",
      "'text.': 1\n",
      "'text': 1\n",
      "'will': 1\n",
      "'be': 1\n",
      "'used': 1\n",
      "'to': 1\n",
      "'demonstrate': 1\n",
      "'the': 1\n",
      "'word': 1\n",
      "'counter.': 1\n"
     ]
    }
   ],
   "source": [
    "#import collections library\n",
    "from collections import Counter\n",
    "#Ask user to enter the text\n",
    "input_text = input(\"Please enter a text-- \")\n",
    "#Split the entered text with space\n",
    "Words=input_text.split(' ')\n",
    "#Get the total count of the words in the text\n",
    "word_count = Counter(Words)\n",
    "#Loop through the each item and get the number of occurence of the word and print\n",
    "for word, count in word_count.items():\n",
    "    print(f\"'{word}': {count}\")"
   ]
  },
  {
   "cell_type": "markdown",
   "id": "408e374e-ac3d-4089-af0f-f62a7687cd57",
   "metadata": {},
   "source": [
    "#### Exercise 5: Check for Palindrome"
   ]
  },
  {
   "cell_type": "code",
   "execution_count": 17,
   "id": "31806ea7-e2a5-405c-b81c-aa0073599d00",
   "metadata": {},
   "outputs": [
    {
     "data": {
      "text/plain": [
       "True"
      ]
     },
     "execution_count": 17,
     "metadata": {},
     "output_type": "execute_result"
    }
   ],
   "source": [
    "#create is_palindrome function with one parameter for string\n",
    "def is_palindrome(text):\n",
    "    #Check if entered text is palindrome or not with reverse string\n",
    "    if text[::-1]==text:        \n",
    "        return True  \n",
    "    else:\n",
    "        return False   \n",
    "\n",
    "# Call the is_palindrome function with string value\n",
    "is_palindrome('racecar')"
   ]
  },
  {
   "cell_type": "code",
   "execution_count": null,
   "id": "7e6c6c8b-2add-44ad-bce5-12e198077bee",
   "metadata": {},
   "outputs": [],
   "source": []
  },
  {
   "cell_type": "code",
   "execution_count": null,
   "id": "87748b89-3a78-48c1-a2ee-fbaab1fb84fd",
   "metadata": {},
   "outputs": [],
   "source": []
  }
 ],
 "metadata": {
  "kernelspec": {
   "display_name": "Python [conda env:base] *",
   "language": "python",
   "name": "conda-base-py"
  },
  "language_info": {
   "codemirror_mode": {
    "name": "ipython",
    "version": 3
   },
   "file_extension": ".py",
   "mimetype": "text/x-python",
   "name": "python",
   "nbconvert_exporter": "python",
   "pygments_lexer": "ipython3",
   "version": "3.13.5"
  }
 },
 "nbformat": 4,
 "nbformat_minor": 5
}
